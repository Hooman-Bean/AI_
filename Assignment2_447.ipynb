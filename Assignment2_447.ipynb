{
 "cells": [
  {
   "cell_type": "code",
   "execution_count": 7,
   "metadata": {},
   "outputs": [],
   "source": [
    "import numpy as np\n",
    "import pandas as pd\n",
    "import tensorflow as tf\n",
    "from keras.layers import TextVectorization\n",
    "from keras.utils import pad_sequences\n",
    "from sklearn.feature_extraction.text import CountVectorizer\n",
    "from sklearn.feature_extraction.text import TfidfVectorizer\n",
    "from keras.models import Sequential\n",
    "from keras.layers import Dense, Dropout, Activation, Embedding, LSTM, Bidirectional\n",
    "import os"
   ]
  },
  {
   "cell_type": "code",
   "execution_count": 8,
   "metadata": {},
   "outputs": [],
   "source": [
    "# Read and prepare the data\n",
    "pos_train = []\n",
    "directory = 'C:\\\\Users\\\\sayantan.manik\\\\OneDrive - The University of South Dakota\\\\Desktop\\\\CSC447\\\\aclImdb_v1\\\\aclImdb\\\\train\\\\pos'\n",
    "for filename in os.listdir(directory):\n",
    "    if filename.endswith('.txt'):\n",
    "        with open(os.path.join(directory, filename), 'r') as file:\n",
    "            pos_train.append(file.read())\n",
    "\n",
    "pos_labels = np.ones(len(pos_train))            \n",
    "\n",
    "neg_train = []\n",
    "directory = 'C:\\\\Users\\\\sayantan.manik\\\\OneDrive - The University of South Dakota\\\\Desktop\\\\CSC447\\\\aclImdb_v1\\\\aclImdb\\\\train\\\\neg'\n",
    "for filename in os.listdir(directory):\n",
    "    if filename.endswith('.txt'):\n",
    "        with open(os.path.join(directory, filename), 'r') as file:\n",
    "            neg_train.append(file.read())\n",
    "            \n",
    "neg_labels = np.zeros(len(neg_train))\n",
    "\n",
    "x_train = np.concatenate((pos_train, neg_train))\n",
    "y_train = np.concatenate((pos_labels, neg_labels))\n",
    "\n",
    "pos_test = []\n",
    "directory = 'C:\\\\Users\\\\sayantan.manik\\\\OneDrive - The University of South Dakota\\\\Desktop\\\\CSC447\\\\aclImdb_v1\\\\aclImdb\\\\test\\\\pos'\n",
    "for filename in os.listdir(directory):\n",
    "    if filename.endswith('.txt'):\n",
    "        with open(os.path.join(directory, filename), 'r') as file:\n",
    "            pos_test.append(file.read())\n",
    "\n",
    "neg_test = []\n",
    "directory = 'C:\\\\Users\\\\sayantan.manik\\\\OneDrive - The University of South Dakota\\\\Desktop\\\\CSC447\\\\aclImdb_v1\\\\aclImdb\\\\test\\\\pos'\n",
    "for filename in os.listdir(directory):\n",
    "    if filename.endswith('.txt'):\n",
    "        with open(os.path.join(directory, filename), 'r') as file:\n",
    "            neg_test.append(file.read())    \n",
    "\n",
    "x_test = np.concatenate((pos_test, neg_test))\n",
    "y_test = np.concatenate((pos_labels, neg_labels))\n",
    "\n",
    "# Shuffle the data\n",
    "np.random.seed(0)\n",
    "shuffle_indices = np.random.permutation(x_train.shape[0])\n",
    "x_train = x_train[shuffle_indices]\n",
    "y_train = y_train[shuffle_indices]"
   ]
  },
  {
   "cell_type": "code",
   "execution_count": 9,
   "metadata": {},
   "outputs": [],
   "source": [
    "max_len = 1000\n",
    "max_token = 50000\n",
    "\n",
    "# Preprocessing\n",
    "\n",
    "def unigram_preprocessing(text_data,max_len):\n",
    "    vectorizer = CountVectorizer(stop_words=\"english\")\n",
    "    unigram = vectorizer.fit_transform(text_data)\n",
    "    unigram = unigram.toarray()\n",
    "    unigram = pad_sequences(unigram, maxlen=max_len)\n",
    "    return unigram\n",
    "\n",
    "def bigram_preprocessing(text_data,max_len):\n",
    "    vectorizer = CountVectorizer(ngram_range=(2, 2),stop_words=\"english\")\n",
    "    bigram = vectorizer.fit_transform(text_data)\n",
    "    bigram = bigram.astype(np.uint8).toarray() # to save memory\n",
    "    bigram = pad_sequences(bigram,maxlen=max_len)\n",
    "    return bigram\n",
    "\n",
    "def tf_df_preprocessing(text_data,max_len):\n",
    "    vectorizer = TfidfVectorizer(stop_words=\"english\")\n",
    "    tf_df = vectorizer.fit_transform(text_data)\n",
    "    tf_df = tf_df.toarray()\n",
    "    tf_df = pad_sequences(tf_df,maxlen=max_len)\n",
    "    return tf_df\n",
    "\n",
    "def LSTM_preprocessing(text_data,max_len,max_token):\n",
    "    vectorizer = TextVectorization(max_tokens=max_token, output_sequence_length=max_len)\n",
    "    vectorizer.adapt(text_data)\n",
    "    vectorizer = vectorizer(text_data)\n",
    "    return vectorizer"
   ]
  },
  {
   "cell_type": "code",
   "execution_count": 15,
   "metadata": {},
   "outputs": [],
   "source": [
    "# Bag of Words\n",
    "def bagofwords_evaluation(x_train, y_train, x_test, y_test, max_len):\n",
    "    model = Sequential([\n",
    "        Dense(64, activation='relu', input_shape=(max_len,)),\n",
    "        # Dropout(0.5),\n",
    "        Dense(1, activation='sigmoid')\n",
    "    ])\n",
    "    # Compile the model\n",
    "    model.compile(optimizer='adam', loss='binary_crossentropy', metrics=['accuracy'])\n",
    "    # Train the model\n",
    "    model.fit(x_train, y_train, epochs=10, batch_size=32)\n",
    "    # Evaluate the model\n",
    "    loss, accuracy = model.evaluate(x_test, y_test)\n",
    "    print('Test loss:', loss)\n",
    "    print('Test accuracy:', accuracy)\n",
    "\n",
    "# LSTM\n",
    "def LSTM_evaluation(x_train, y_train, x_test, y_test, max_len,max_token):\n",
    "    model = Sequential([\n",
    "        Embedding(input_dim=max_token, output_dim=64, input_length=max_len),\n",
    "        LSTM(units=64, dropout=0.2, recurrent_dropout=0.2),\n",
    "        Dense(1, activation='sigmoid')\n",
    "    ])\n",
    "    model.compile(optimizer='adam', loss='binary_crossentropy', metrics=['accuracy'])\n",
    "    model.fit(x_train, y_train, epochs=1, batch_size=32) # epochs=1 because it takes too long to train\n",
    "    loss, accuracy = model.evaluate(x_test, y_test)\n",
    "    print('Test loss:', loss)\n",
    "    print('Test accuracy:', accuracy)"
   ]
  },
  {
   "cell_type": "code",
   "execution_count": 11,
   "metadata": {},
   "outputs": [
    {
     "name": "stdout",
     "output_type": "stream",
     "text": [
      "Epoch 1/10\n",
      "782/782 [==============================] - 3s 2ms/step - loss: 0.6815 - accuracy: 0.5586\n",
      "Epoch 2/10\n",
      "782/782 [==============================] - 2s 3ms/step - loss: 0.6697 - accuracy: 0.5726\n",
      "Epoch 3/10\n",
      "782/782 [==============================] - 2s 3ms/step - loss: 0.6613 - accuracy: 0.5786\n",
      "Epoch 4/10\n",
      "782/782 [==============================] - 2s 3ms/step - loss: 0.6552 - accuracy: 0.5797\n",
      "Epoch 5/10\n",
      "782/782 [==============================] - 2s 3ms/step - loss: 0.6498 - accuracy: 0.5830\n",
      "Epoch 6/10\n",
      "782/782 [==============================] - 2s 2ms/step - loss: 0.6472 - accuracy: 0.5824\n",
      "Epoch 7/10\n",
      "782/782 [==============================] - 2s 2ms/step - loss: 0.6444 - accuracy: 0.5833\n",
      "Epoch 8/10\n",
      "782/782 [==============================] - 2s 3ms/step - loss: 0.6426 - accuracy: 0.5819\n",
      "Epoch 9/10\n",
      "782/782 [==============================] - 2s 2ms/step - loss: 0.6407 - accuracy: 0.5866\n",
      "Epoch 10/10\n",
      "782/782 [==============================] - 2s 3ms/step - loss: 0.6388 - accuracy: 0.5862\n",
      "782/782 [==============================] - 2s 2ms/step - loss: 1.8275 - accuracy: 0.5000\n",
      "Test loss: 1.8275463581085205\n",
      "Test accuracy: 0.5\n"
     ]
    }
   ],
   "source": [
    "# unigram\n",
    "bagofwords_evaluation(unigram_preprocessing(x_train,max_len), y_train, unigram_preprocessing(x_test,max_len), y_test, max_len)"
   ]
  },
  {
   "cell_type": "code",
   "execution_count": 12,
   "metadata": {},
   "outputs": [
    {
     "name": "stdout",
     "output_type": "stream",
     "text": [
      "Epoch 1/10\n",
      "782/782 [==============================] - 5s 4ms/step - loss: 0.6930 - accuracy: 0.4972\n",
      "Epoch 2/10\n",
      "782/782 [==============================] - 3s 3ms/step - loss: 0.6906 - accuracy: 0.5043\n",
      "Epoch 3/10\n",
      "782/782 [==============================] - 3s 4ms/step - loss: 0.6864 - accuracy: 0.5100\n",
      "Epoch 4/10\n",
      "782/782 [==============================] - 4s 5ms/step - loss: 0.6820 - accuracy: 0.5166\n",
      "Epoch 5/10\n",
      "782/782 [==============================] - 4s 5ms/step - loss: 0.6792 - accuracy: 0.5194\n",
      "Epoch 6/10\n",
      "782/782 [==============================] - 3s 4ms/step - loss: 0.6779 - accuracy: 0.5134\n",
      "Epoch 7/10\n",
      "782/782 [==============================] - 3s 4ms/step - loss: 0.6766 - accuracy: 0.5150\n",
      "Epoch 8/10\n",
      "782/782 [==============================] - 2s 3ms/step - loss: 0.6763 - accuracy: 0.5146\n",
      "Epoch 9/10\n",
      "782/782 [==============================] - 3s 3ms/step - loss: 0.6761 - accuracy: 0.5146\n",
      "Epoch 10/10\n",
      "782/782 [==============================] - 3s 3ms/step - loss: 0.6755 - accuracy: 0.5166\n",
      "782/782 [==============================] - 3s 3ms/step - loss: 0.7576 - accuracy: 0.5000\n",
      "Test loss: 0.7576073408126831\n",
      "Test accuracy: 0.5\n"
     ]
    }
   ],
   "source": [
    "# bigram\n",
    "bagofwords_evaluation(bigram_preprocessing(x_train,max_len), y_train, bigram_preprocessing(x_test,max_len), y_test, max_len)"
   ]
  },
  {
   "cell_type": "code",
   "execution_count": 13,
   "metadata": {},
   "outputs": [
    {
     "name": "stdout",
     "output_type": "stream",
     "text": [
      "Epoch 1/10\n",
      "782/782 [==============================] - 4s 3ms/step - loss: 0.6932 - accuracy: 0.4956\n",
      "Epoch 2/10\n",
      "782/782 [==============================] - 2s 3ms/step - loss: 0.6932 - accuracy: 0.4962\n",
      "Epoch 3/10\n",
      "782/782 [==============================] - 2s 3ms/step - loss: 0.6932 - accuracy: 0.4972\n",
      "Epoch 4/10\n",
      "782/782 [==============================] - 2s 3ms/step - loss: 0.6932 - accuracy: 0.5031\n",
      "Epoch 5/10\n",
      "782/782 [==============================] - 3s 4ms/step - loss: 0.6932 - accuracy: 0.4970\n",
      "Epoch 6/10\n",
      "782/782 [==============================] - 3s 3ms/step - loss: 0.6932 - accuracy: 0.4972\n",
      "Epoch 7/10\n",
      "782/782 [==============================] - 3s 3ms/step - loss: 0.6932 - accuracy: 0.4982\n",
      "Epoch 8/10\n",
      "782/782 [==============================] - 2s 3ms/step - loss: 0.6932 - accuracy: 0.4950\n",
      "Epoch 9/10\n",
      "782/782 [==============================] - 2s 3ms/step - loss: 0.6932 - accuracy: 0.4948\n",
      "Epoch 10/10\n",
      "782/782 [==============================] - 3s 4ms/step - loss: 0.6932 - accuracy: 0.5008\n",
      "782/782 [==============================] - 3s 3ms/step - loss: 0.6931 - accuracy: 0.5000\n",
      "Test loss: 0.6931456923484802\n",
      "Test accuracy: 0.5\n"
     ]
    }
   ],
   "source": [
    "# tf_df\n",
    "bagofwords_evaluation(tf_df_preprocessing(x_train,max_len), y_train, tf_df_preprocessing(x_test,max_len), y_test, max_len)"
   ]
  },
  {
   "cell_type": "code",
   "execution_count": 16,
   "metadata": {},
   "outputs": [
    {
     "name": "stdout",
     "output_type": "stream",
     "text": [
      "782/782 [==============================] - 1013s 1s/step - loss: 0.6934 - accuracy: 0.4966\n",
      "782/782 [==============================] - 108s 138ms/step - loss: 0.6932 - accuracy: 0.5000\n",
      "Test loss: 0.6931659579277039\n",
      "Test accuracy: 0.5\n"
     ]
    }
   ],
   "source": [
    "# LSTM\n",
    "LSTM_evaluation(LSTM_preprocessing(x_train,max_len,max_token), y_train, LSTM_preprocessing(x_test,max_len,max_token), y_test, max_len, max_token)"
   ]
  }
 ],
 "metadata": {
  "kernelspec": {
   "display_name": "base",
   "language": "python",
   "name": "python3"
  },
  "language_info": {
   "codemirror_mode": {
    "name": "ipython",
    "version": 3
   },
   "file_extension": ".py",
   "mimetype": "text/x-python",
   "name": "python",
   "nbconvert_exporter": "python",
   "pygments_lexer": "ipython3",
   "version": "3.9.12"
  },
  "orig_nbformat": 4
 },
 "nbformat": 4,
 "nbformat_minor": 2
}
